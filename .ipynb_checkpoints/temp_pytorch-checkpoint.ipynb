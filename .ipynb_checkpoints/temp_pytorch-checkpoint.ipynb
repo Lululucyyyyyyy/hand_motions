{
 "cells": [
  {
   "cell_type": "code",
   "execution_count": 1,
   "metadata": {},
   "outputs": [
    {
     "name": "stderr",
     "output_type": "stream",
     "text": [
      "Using TensorFlow backend.\n"
     ]
    },
    {
     "name": "stdout",
     "output_type": "stream",
     "text": [
      "my_list.shape:  (148, 224, 224, 3)\n",
      "num labels:  148\n"
     ]
    }
   ],
   "source": [
    "import math\n",
    "import numpy as np\n",
    "import h5py\n",
    "import matplotlib.pyplot as plt\n",
    "import scipy\n",
    "from PIL import Image\n",
    "from scipy import ndimage\n",
    "import tensorflow as tf\n",
    "from cnn_utils import *\n",
    "from PIL import Image\n",
    "import glob\n",
    "import random\n",
    "from tensorflow.keras import layers\n",
    "import os\n",
    "import sys\n",
    "import torch\n",
    "import torch.nn as nn\n",
    "import torch.nn.functional as F\n",
    "import torch.optim as optim\n",
    "from pylab import imshow\n",
    "\n",
    "os.environ['KMP_DUPLICATE_LIB_OK']='True'\n",
    "os.environ['TF_CPP_MIN_LOG_LEVEL'] = '3' \n",
    "tf.logging.set_verbosity(tf.logging.ERROR)\n",
    "\n",
    "#directions = ['five', 'one']\n",
    "def load_images(globpath):\n",
    "    for image in globpath:\n",
    "        with open(image, 'rb') as file:\n",
    "            img = Image.open(file)\n",
    "            img = img.resize((224, 224))\n",
    "            np_img = np.array(img)\n",
    "            my_list.append(np_img)\n",
    "\n",
    "my_list = []\n",
    "load_images(glob.glob(\"dataset3/*.JPG\"))\n",
    "my_list = np.array(my_list)\n",
    "print('my_list.shape: ', my_list.shape)\n",
    "\n",
    "# 0 five (74), 1 one (74)\n",
    "labels_ = [0,0,0,0,0,0,0,0,0,0,\n",
    "        0,0,0,0,0,0,0,0,0,0,\n",
    "        0,0,0,0,0,0,0,0,0,0,\n",
    "        0,0,0,0,0,0,0,0,0,0,\n",
    "        0,0,0,0,0,0,0,0,0,0,\n",
    "        0,0,0,0,0,0,0,0,0,0,\n",
    "        0,0,0,0,0,0,0,0,0,0,\n",
    "        0,0,0,0, \n",
    "        1,1,1,1,1,1,1,1,1,1,\n",
    "        1,1,1,1,1,1,1,1,1,1,\n",
    "        1,1,1,1,1,1,1,1,1,1,\n",
    "        1,1,1,1,1,1,1,1,1,1,\n",
    "        1,1,1,1,1,1,1,1,1,1,\n",
    "        1,1,1,1,1,1,1,1,1,1,\n",
    "        1,1,1,1,1,1,1,1,1,1,\n",
    "        1,1,1,1]\n",
    "print(\"num labels: \",len(labels_))\n",
    "labels_ = np.array(labels_)\n",
    "\n",
    "p = np.random.permutation(len(my_list))\n",
    "X_orig = my_list[p]\n",
    "Y_orig = labels_[p]\n",
    "\n",
    "X_test_orig = X_orig[0:15]\n",
    "Y_test_orig = Y_orig[0:15]\n",
    "X_dev_orig = X_orig[16:31]\n",
    "Y_dev_orig = Y_orig[16:31]\n",
    "X_train_orig = X_orig[32:len(labels_)]\n",
    "Y_train_orig = Y_orig[32:len(labels_)]\n",
    "\n",
    "X_train = X_train_orig/255\n",
    "X_test = X_test_orig/255\n",
    "X_dev = X_dev_orig/255\n",
    "Y_train = convert_to_one_hot(Y_train_orig, 2).T\n",
    "Y_test = convert_to_one_hot(Y_test_orig, 2).T\n",
    "Y_dev = convert_to_one_hot(Y_dev_orig, 2).T\n",
    "\n",
    "X_train = torch.FloatTensor(X_train).permute(0, 3, 1, 2)\n",
    "Y_train = torch.FloatTensor(Y_train)\n",
    "X_dev = torch.FloatTensor(X_dev).permute(0, 3, 1, 2)\n",
    "Y_dev = torch.FloatTensor(Y_dev)\n",
    "X_test = torch.FloatTensor(X_test).permute(0, 3, 1, 2)\n",
    "Y_test = torch.FloatTensor(Y_test)"
   ]
  },
  {
   "cell_type": "code",
   "execution_count": 2,
   "metadata": {},
   "outputs": [],
   "source": [
    "def random_mini_batches(X, Y, mini_batch_size = 10, seed = 0):\n",
    "    m = X.shape[0]                \n",
    "    mini_batches = []\n",
    "    np.random.seed(seed)\n",
    "    \n",
    "    permutation = list(np.random.permutation(m))\n",
    "    shuffled_X = X[permutation,:,:,:]\n",
    "    shuffled_Y = Y[permutation]\n",
    "\n",
    "    num_complete_minibatches = math.floor(m/mini_batch_size)\n",
    "    for k in range(0, num_complete_minibatches):\n",
    "        mini_batch_X = shuffled_X[k * mini_batch_size : k * mini_batch_size + mini_batch_size,:,:,:]\n",
    "        mini_batch_Y = shuffled_Y[k * mini_batch_size : k * mini_batch_size + mini_batch_size]\n",
    "        mini_batch = (mini_batch_X, mini_batch_Y)\n",
    "        mini_batches.append(mini_batch)\n",
    "    \n",
    "    if m % mini_batch_size != 0:\n",
    "        mini_batch_X = shuffled_X[num_complete_minibatches * mini_batch_size : m,:,:,:]\n",
    "        mini_batch_Y = shuffled_Y[num_complete_minibatches * mini_batch_size : m]\n",
    "        mini_batch = (mini_batch_X, mini_batch_Y)\n",
    "        mini_batches.append(mini_batch)\n",
    "    \n",
    "    return mini_batches\n",
    "\n",
    "class Net(nn.Module):\n",
    "\n",
    "    def __init__(self):\n",
    "        super(Net, self).__init__()\n",
    "        self.conv1 = nn.Conv2d(3, 8, 11)\n",
    "        self.pool = nn.MaxPool2d(3, 2)\n",
    "        self.conv2 = nn.Conv2d(8, 256, 5)\n",
    "        self.conv3 = nn.Conv2d(256, 384, 3)\n",
    "        self.conv4 = nn.Conv2d(384, 384, 3)\n",
    "        self.conv5 = nn.Conv2d(384, 256, 3)\n",
    "        self.fc6 = nn.Linear(256*21*21, 120)\n",
    "        self.fc7 = nn.Linear(120, 84)\n",
    "        self.fc8 = nn.Linear(84, 2)\n",
    "        self.dropout = nn.Dropout(0.5)\n",
    "\n",
    "    def forward(self, x):\n",
    "        num = x.shape[0]\n",
    "        x = self.pool(F.relu(self.conv1(x)))\n",
    "        x = self.pool(F.relu(self.conv2(x)))\n",
    "        x = F.relu(self.conv3(x))\n",
    "        x = F.relu(self.conv4(x))\n",
    "        x = self.pool(F.relu(self.conv5(x)))\n",
    "        x = x.view(x.size(0), -1)\n",
    "        x = self.dropout(F.relu(self.fc6(x)))\n",
    "        x = self.dropout(F.relu(self.fc7(x)))\n",
    "        x = self.fc8(x)\n",
    "        return x"
   ]
  },
  {
   "cell_type": "code",
   "execution_count": 9,
   "metadata": {},
   "outputs": [],
   "source": [
    "net = Net()\n",
    "\n",
    "criterion = nn.CrossEntropyLoss()\n",
    "optimizer = optim.Adam(net.parameters(), lr=0.009)\n",
    "\n",
    "def train():\n",
    "    print('==========Training==========')\n",
    "    costs = []\n",
    "    for epoch in range(2):\n",
    "        running_loss = 0.0\n",
    "        minibatches = random_mini_batches(X_train, Y_train)\n",
    "        for i, minibatch in enumerate(minibatches, 0):\n",
    "            #minibatch size = 10\n",
    "\n",
    "            inputs, labels = minibatch\n",
    "\n",
    "            optimizer.zero_grad()\n",
    "\n",
    "            outputs = net(inputs)\n",
    "            loss = criterion(outputs, torch.max(labels, 1)[1])\n",
    "            loss.backward()\n",
    "            optimizer.step()\n",
    "\n",
    "            running_loss += loss.item()\n",
    "            if i % 1 == 0:\n",
    "                print('[%d, %5d] loss: %.3f' %  (epoch + 1, i + 1, running_loss / 20))\n",
    "                costs.append(running_loss)\n",
    "                running_loss = 0.0\n",
    "    plt.plot(np.squeeze(costs))\n",
    "    plt.ylabel('cost')\n",
    "    plt.xlabel('iterations (per tens)')\n",
    "    plt.title(\"Cost\")\n",
    "    plt.show()\n",
    "\n",
    "def dev():\n",
    "    print('==========Validating==========')\n",
    "    images = X_dev\n",
    "    labels = Y_dev\n",
    "\n",
    "    imshow(torchvision.utils.make_grid(images))\n",
    "    print('GroundTruth: ', ' '.join('%5s' % classes[labels[j]] for j in range(4)))\n",
    "\n",
    "    outputs = net(images)\n",
    "    _, predicted = torch.max(outputs, 1)\n",
    "    print('Predicted: ', ' '.join('%5s' % classes[predicted[j]] for j in range(4)))\n",
    "\n",
    "def test():\n",
    "    print('==========Testing==========')\n",
    "    images = X_test\n",
    "    labels = Y_test\n",
    "\n",
    "    imshow(torchvision.utils.make_grid(images))\n",
    "    print('GroundTruth: ', ' '.join('%5s' % classes[labels[j]] for j in range(4)))\n",
    "\n",
    "    outputs = net(images)\n",
    "    _, predicted = torch.max(outputs, 1)\n",
    "    print('Predicted: ', ' '.join('%5s' % classes[predicted[j]] for j in range(4)))\n"
   ]
  },
  {
   "cell_type": "code",
   "execution_count": 34,
   "metadata": {},
   "outputs": [],
   "source": [
    "def eval(dataset):\n",
    "    correct = 0\n",
    "    total = 0\n",
    "    if dataset == \"train\":\n",
    "        images = X_train\n",
    "        labels = Y_train\n",
    "    elif dataset == \"dev\":\n",
    "        images = X_dev\n",
    "        labels = Y_dev\n",
    "    elif dataset == \"test\":\n",
    "        images = X_test\n",
    "        labels = Y_test\n",
    "\n",
    "    with torch.no_grad():\n",
    "        outputs = net(images)\n",
    "        _, predicted = torch.max(outputs, 1)\n",
    "        the_labels = torch.argmax(labels, 1)\n",
    "        total += len(images)\n",
    "        correct += (predicted == the_labels).sum().item()\n",
    "    print('Accuracy of the network on {}: %d %%'.format(dataset) % (100 * correct / total))\n"
   ]
  },
  {
   "cell_type": "code",
   "execution_count": 11,
   "metadata": {},
   "outputs": [
    {
     "name": "stdout",
     "output_type": "stream",
     "text": [
      "==========Training==========\n",
      "[1,     1] loss: 0.035\n",
      "[1,     2] loss: 4892.834\n",
      "[1,     3] loss: 6.344\n",
      "[1,     4] loss: 0.205\n",
      "[1,     5] loss: 0.174\n",
      "[1,     6] loss: 0.033\n",
      "[1,     7] loss: 0.227\n",
      "[1,     8] loss: 0.046\n",
      "[1,     9] loss: 0.039\n",
      "[1,    10] loss: 0.034\n",
      "[1,    11] loss: 1.466\n",
      "[1,    12] loss: 0.034\n",
      "[2,     1] loss: 0.154\n",
      "[2,     2] loss: 0.034\n",
      "[2,     3] loss: 0.054\n",
      "[2,     4] loss: 0.036\n",
      "[2,     5] loss: 0.044\n",
      "[2,     6] loss: 0.038\n",
      "[2,     7] loss: 0.036\n",
      "[2,     8] loss: 0.033\n",
      "[2,     9] loss: 0.032\n",
      "[2,    10] loss: 0.037\n",
      "[2,    11] loss: 0.035\n",
      "[2,    12] loss: 0.033\n"
     ]
    },
    {
     "data": {
      "image/png": "[encoded data removed]",
      "text/plain": [
       "<Figure size 432x288 with 1 Axes>"
      ]
     },
     "metadata": {
      "needs_background": "light"
     },
     "output_type": "display_data"
    }
   ],
   "source": [
    "train()"
   ]
  },
  {
   "cell_type": "code",
   "execution_count": 35,
   "metadata": {},
   "outputs": [
    {
     "name": "stdout",
     "output_type": "stream",
     "text": [
      "Accuracy of the network on train: 55 %\n"
     ]
    }
   ],
   "source": [
    "eval(\"train\")"
   ]
  },
  {
   "cell_type": "code",
   "execution_count": 36,
   "metadata": {},
   "outputs": [
    {
     "name": "stdout",
     "output_type": "stream",
     "text": [
      "==========Validating==========\n"
     ]
    },
    {
     "ename": "NameError",
     "evalue": "name 'imshow' is not defined",
     "output_type": "error",
     "traceback": [
      "\u001b[0;31m---------------------------------------------------------------------------\u001b[0m",
      "\u001b[0;31mNameError\u001b[0m                                 Traceback (most recent call last)",
      "\u001b[0;32m<ipython-input-36-c51c19272e90>\u001b[0m in \u001b[0;36m<module>\u001b[0;34m\u001b[0m\n\u001b[0;32m----> 1\u001b[0;31m \u001b[0mdev\u001b[0m\u001b[0;34m(\u001b[0m\u001b[0;34m)\u001b[0m\u001b[0;34m\u001b[0m\u001b[0;34m\u001b[0m\u001b[0m\n\u001b[0m\u001b[1;32m      2\u001b[0m \u001b[0meval\u001b[0m\u001b[0;34m(\u001b[0m\u001b[0;34m\"dev\"\u001b[0m\u001b[0;34m)\u001b[0m\u001b[0;34m\u001b[0m\u001b[0;34m\u001b[0m\u001b[0m\n\u001b[1;32m      3\u001b[0m \u001b[0mtest\u001b[0m\u001b[0;34m(\u001b[0m\u001b[0;34m)\u001b[0m\u001b[0;34m\u001b[0m\u001b[0;34m\u001b[0m\u001b[0m\n\u001b[1;32m      4\u001b[0m \u001b[0meval\u001b[0m\u001b[0;34m(\u001b[0m\u001b[0;34m\"test\"\u001b[0m\u001b[0;34m)\u001b[0m\u001b[0;34m\u001b[0m\u001b[0;34m\u001b[0m\u001b[0m\n\u001b[1;32m      5\u001b[0m \u001b[0mprint\u001b[0m\u001b[0;34m(\u001b[0m\u001b[0;34m'the end'\u001b[0m\u001b[0;34m)\u001b[0m\u001b[0;34m\u001b[0m\u001b[0;34m\u001b[0m\u001b[0m\n",
      "\u001b[0;32m<ipython-input-9-a389a8fa3625>\u001b[0m in \u001b[0;36mdev\u001b[0;34m()\u001b[0m\n\u001b[1;32m     38\u001b[0m     \u001b[0mlabels\u001b[0m \u001b[0;34m=\u001b[0m \u001b[0mY_dev\u001b[0m\u001b[0;34m\u001b[0m\u001b[0;34m\u001b[0m\u001b[0m\n\u001b[1;32m     39\u001b[0m \u001b[0;34m\u001b[0m\u001b[0m\n\u001b[0;32m---> 40\u001b[0;31m     \u001b[0mimshow\u001b[0m\u001b[0;34m(\u001b[0m\u001b[0mtorchvision\u001b[0m\u001b[0;34m.\u001b[0m\u001b[0mutils\u001b[0m\u001b[0;34m.\u001b[0m\u001b[0mmake_grid\u001b[0m\u001b[0;34m(\u001b[0m\u001b[0mimages\u001b[0m\u001b[0;34m)\u001b[0m\u001b[0;34m)\u001b[0m\u001b[0;34m\u001b[0m\u001b[0;34m\u001b[0m\u001b[0m\n\u001b[0m\u001b[1;32m     41\u001b[0m     \u001b[0mprint\u001b[0m\u001b[0;34m(\u001b[0m\u001b[0;34m'GroundTruth: '\u001b[0m\u001b[0;34m,\u001b[0m \u001b[0;34m' '\u001b[0m\u001b[0;34m.\u001b[0m\u001b[0mjoin\u001b[0m\u001b[0;34m(\u001b[0m\u001b[0;34m'%5s'\u001b[0m \u001b[0;34m%\u001b[0m \u001b[0mclasses\u001b[0m\u001b[0;34m[\u001b[0m\u001b[0mlabels\u001b[0m\u001b[0;34m[\u001b[0m\u001b[0mj\u001b[0m\u001b[0;34m]\u001b[0m\u001b[0;34m]\u001b[0m \u001b[0;32mfor\u001b[0m \u001b[0mj\u001b[0m \u001b[0;32min\u001b[0m \u001b[0mrange\u001b[0m\u001b[0;34m(\u001b[0m\u001b[0;36m4\u001b[0m\u001b[0;34m)\u001b[0m\u001b[0;34m)\u001b[0m\u001b[0;34m)\u001b[0m\u001b[0;34m\u001b[0m\u001b[0;34m\u001b[0m\u001b[0m\n\u001b[1;32m     42\u001b[0m \u001b[0;34m\u001b[0m\u001b[0m\n",
      "\u001b[0;31mNameError\u001b[0m: name 'imshow' is not defined"
     ]
    }
   ],
   "source": [
    "dev()\n",
    "eval(\"dev\")\n",
    "test()\n",
    "eval(\"test\")\n",
    "print('the end')"
   ]
  },
  {
   "cell_type": "code",
   "execution_count": null,
   "metadata": {},
   "outputs": [],
   "source": []
  }
 ],
 "metadata": {
  "kernelspec": {
   "display_name": "Python 3",
   "language": "python",
   "name": "python3"
  },
  "language_info": {
   "codemirror_mode": {
    "name": "ipython",
    "version": 3
   },
   "file_extension": ".py",
   "mimetype": "text/x-python",
   "name": "python",
   "nbconvert_exporter": "python",
   "pygments_lexer": "ipython3",
   "version": "3.7.3"
  }
 },
 "nbformat": 4,
 "nbformat_minor": 2
}
