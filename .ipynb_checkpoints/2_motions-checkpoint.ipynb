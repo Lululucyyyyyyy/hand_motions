{
 "cells": [
  {
   "cell_type": "code",
   "execution_count": 15,
   "metadata": {},
   "outputs": [],
   "source": [
    "import math\n",
    "import numpy as np\n",
    "import h5py\n",
    "import matplotlib.pyplot as plt\n",
    "import scipy\n",
    "from PIL import Image\n",
    "from scipy import ndimage\n",
    "import tensorflow as tf\n",
    "from tensorflow.python.framework import ops\n",
    "from cnn_utils import *\n",
    "from PIL import Image\n",
    "import glob\n",
    "import random\n",
    "from tensorflow.keras import layers\n",
    "import os\n",
    "\n",
    "os.environ['KMP_DUPLICATE_LIB_OK']='True'\n",
    "tf.logging.set_verbosity(tf.logging.ERROR)"
   ]
  },
  {
   "cell_type": "code",
   "execution_count": 16,
   "metadata": {},
   "outputs": [
    {
     "name": "stdout",
     "output_type": "stream",
     "text": [
      "my_list.shape:  (148, 224, 224, 3)\n"
     ]
    }
   ],
   "source": [
    "#directions = ['five', 'one']\n",
    "def load_images(globpath):\n",
    "    for image in globpath:\n",
    "        with open(image, 'rb') as file:\n",
    "            img = Image.open(file)\n",
    "            img = img.resize((224, 224))\n",
    "            np_img = np.array(img)\n",
    "            my_list.append(np_img)\n",
    "\n",
    "my_list = []\n",
    "load_images(glob.glob(\"dataset3/*.JPG\"))\n",
    "my_list = np.array(my_list)\n",
    "print('my_list.shape: ', my_list.shape)"
   ]
  },
  {
   "cell_type": "code",
   "execution_count": 17,
   "metadata": {},
   "outputs": [
    {
     "name": "stdout",
     "output_type": "stream",
     "text": [
      "num labels:  148\n"
     ]
    }
   ],
   "source": [
    "# 0 five (74), 1 one (74)\n",
    "labels = [0,0,0,0,0,0,0,0,0,0,\n",
    "        0,0,0,0,0,0,0,0,0,0,\n",
    "        0,0,0,0,0,0,0,0,0,0,\n",
    "        0,0,0,0,0,0,0,0,0,0,\n",
    "        0,0,0,0,0,0,0,0,0,0,\n",
    "        0,0,0,0,0,0,0,0,0,0,\n",
    "        0,0,0,0,0,0,0,0,0,0,\n",
    "        0,0,0,0, \n",
    "        1,1,1,1,1,1,1,1,1,1,\n",
    "        1,1,1,1,1,1,1,1,1,1,\n",
    "        1,1,1,1,1,1,1,1,1,1,\n",
    "        1,1,1,1,1,1,1,1,1,1,\n",
    "        1,1,1,1,1,1,1,1,1,1,\n",
    "        1,1,1,1,1,1,1,1,1,1,\n",
    "        1,1,1,1,1,1,1,1,1,1,\n",
    "        1,1,1,1]\n",
    "print(\"num labels: \",len(labels))\n",
    "labels = np.array(labels)"
   ]
  },
  {
   "cell_type": "code",
   "execution_count": 18,
   "metadata": {},
   "outputs": [
    {
     "name": "stdout",
     "output_type": "stream",
     "text": [
      "shuffled labels: [0 1 0 0 0 1 1 1 0 0 0 1 1 0 0 0 1 1 0 0 0 0 0 0 1 1 0 1 1 0 1 1 1 0 0 0 1\n",
      " 0 1 0 0 0 0 1 1 1 0 0 1 1 0 1 0 0 0 0 1 1 1 1 0 1 1 1 0 0 0 1 0 0 1 1 1 0\n",
      " 1 0 0 1 1 1 1 1 1 0 1 0 0 0 1 0 0 1 1 0 1 1 1 0 0 1 0 0 1 0 1 1 0 0 1 0 1\n",
      " 0 0 0 1 0 0 1 0 1 0 1 1 1 0 1 1 1 1 0 1 1 1 0 0 1 0 1 0 1 0 0 1 1 0 1 0 1]\n"
     ]
    }
   ],
   "source": [
    "p = np.random.permutation(len(my_list))\n",
    "X_orig = my_list[p]\n",
    "Y_orig = labels[p]\n",
    "print('shuffled labels:', Y_orig)"
   ]
  },
  {
   "cell_type": "code",
   "execution_count": 19,
   "metadata": {},
   "outputs": [],
   "source": [
    "X_test_orig = X_orig[0:15]\n",
    "Y_test_orig = Y_orig[0:15]\n",
    "X_dev_orig = X_orig[16:31]\n",
    "Y_dev_orig = Y_orig[16:31]\n",
    "X_train_orig = X_orig[32:len(labels)]\n",
    "Y_train_orig = Y_orig[32:len(labels)]"
   ]
  },
  {
   "cell_type": "code",
   "execution_count": 20,
   "metadata": {},
   "outputs": [],
   "source": [
    "X_train = X_train_orig/255\n",
    "X_test = X_test_orig/255\n",
    "X_dev = X_dev_orig/225\n",
    "Y_train = convert_to_one_hot(Y_train_orig, 10).T\n",
    "Y_test = convert_to_one_hot(Y_test_orig, 10).T\n",
    "Y_dev= convert_to_one_hot(Y_dev_orig, 10).T"
   ]
  },
  {
   "cell_type": "code",
   "execution_count": 21,
   "metadata": {},
   "outputs": [],
   "source": [
    "def create_placeholders(n_H0, n_W0, n_C0, n_y):\n",
    "    X = tf.placeholder(tf.float32, [None, n_H0, n_W0, n_C0])\n",
    "    Y = tf.placeholder(tf.float32, [None, n_y])\n",
    "    return X, Y\n",
    "\n",
    "def initialize_parameters():\n",
    "    tf.set_random_seed(1)\n",
    "    W1 = tf.get_variable(\"W1\", [4, 4, 3, 8], initializer = tf.contrib.layers.xavier_initializer(seed=0))\n",
    "    W2 = tf.get_variable(\"W2\", [2, 2, 8, 16], initializer = tf.contrib.layers.xavier_initializer(seed=0))\n",
    "    parameters = {\"W1\": W1,\"W2\": W2}\n",
    "    return parameters\n",
    "\n",
    "def forward_prop(X, parameters, keep_prob = 0.5):\n",
    "    W1 = parameters['W1']\n",
    "    W2 = parameters['W2']\n",
    "    rate=1-keep_prob\n",
    "    Z1 = tf.nn.conv2d(X,W1, strides = [1,1,1,1], padding = 'SAME')\n",
    "    A1 = tf.nn.relu(Z1)\n",
    "    P1 = tf.nn.max_pool(A1, ksize = [1,8,8,1], strides = [1,8,8,1], padding = 'SAME')\n",
    "    Z2 = tf.nn.conv2d(P1,W2, strides = [1,1,1,1], padding = 'SAME')\n",
    "    A2 = tf.nn.relu(Z2)\n",
    "    P2 = tf.nn.max_pool(A2, ksize = [1,4,4,1], strides = [1,4,4,1], padding = 'SAME')\n",
    "    P2 = tf.layers.Flatten()(P2)\n",
    "    Z3 = tf.keras.layers.Dense(10, activation=None)(P2)\n",
    "    return Z3\n",
    "\n",
    "def compute_cost(Z3, Y, beta=0.001):\n",
    "    cost = tf.reduce_mean(tf.nn.softmax_cross_entropy_with_logits_v2(logits=Z3,labels=Y))\n",
    "    regularizer = tf.nn.l2_loss(Z3)\n",
    "    cost = tf.reduce_mean(cost + beta * regularizer)\n",
    "    #cost = -tf.reduce_sum(Y*tf.log(tf.clip_by_value(Z3,1e-10,1.0)))\n",
    "    #cost = -tf.reduce_sum(Y*tf.log(tf.clip_by_value(Z3,1e-10,1.0)))\n",
    "    #labels_sum = tf.reduce_sum(Y, axis=-1)\n",
    "    #print(labels)\n",
    "    #softmax = tf.nn.softmax(Z3)\n",
    "    #cost = tf.reduce_mean(-tf.reduce_sum(softmax * tf.log(Y), axis=-1))\n",
    "    return cost"
   ]
  },
  {
   "cell_type": "code",
   "execution_count": 22,
   "metadata": {},
   "outputs": [],
   "source": [
    "def model(X_train, Y_train, learning_rate = 0.009, num_epochs = 100, minibatch_size = 64, print_cost = True):\n",
    "    ops.reset_default_graph()                         \n",
    "    tf.set_random_seed(1)\n",
    "    seed = 3                                          \n",
    "    (m, n_H0, n_W0, n_C0) = X_train.shape             \n",
    "    n_y = Y_train.shape[1]                            \n",
    "    costs = [] \n",
    "    X, Y = create_placeholders(n_H0, n_W0, n_C0, n_y)\n",
    "    parameters = initialize_parameters()\n",
    "    Z3 = forward_prop(X, parameters)\n",
    "    cost = compute_cost(Z3, Y)\n",
    "    optimizer = tf.train.AdamOptimizer(learning_rate = learning_rate).minimize(cost)\n",
    "    \n",
    "    init = tf.global_variables_initializer()\n",
    "\n",
    "    with tf.Session() as sess:\n",
    "        sess.run(init)\n",
    "\n",
    "        print(\"=========Training==========\")\n",
    "        \n",
    "        for epoch in range(num_epochs):\n",
    "            minibatch_cost = 0\n",
    "            num_minibatches = int(m / minibatch_size)\n",
    "            seed = seed + 1\n",
    "            minibatches = random_mini_batches(X_train, Y_train, minibatch_size, seed)\n",
    "            for minibatch in minibatches:\n",
    "                (minibatch_X, minibatch_Y) = minibatch\n",
    "                _, temp_cost = sess.run([optimizer, cost], feed_dict={X:X_train, Y:Y_train})\n",
    "                minibatch_cost += temp_cost / num_minibatches\n",
    "\n",
    "            if print_cost == True and epoch % 5 == 0:\n",
    "                print (\"Cost after epoch %i: %f\" % (epoch, minibatch_cost))\n",
    "            if print_cost == True and epoch % 1 == 0:\n",
    "                costs.append(minibatch_cost)\n",
    "  \n",
    "        plt.plot(np.squeeze(costs))\n",
    "        plt.ylabel('cost')\n",
    "        plt.xlabel('iterations (per tens)')\n",
    "        plt.title(\"Learning rate =\" + str(learning_rate))\n",
    "        plt.show()\n",
    "\n",
    "        predicted = tf.argmax(Z3, 1)\n",
    "        correct_prediction = tf.equal(predicted, tf.argmax(Y, 1))\n",
    "        accuracy = tf.reduce_mean(tf.cast(correct_prediction, \"float\"))\n",
    "        \n",
    "        #print(accuracy)\n",
    "        train_accuracy = accuracy.eval({X: X_train, Y: Y_train})\n",
    "\n",
    "        #train_accuracy = accuracy(predict_op.eval(), correct_prediction)\n",
    "        #return train_accuracy, parameters\n",
    "\n",
    "\n",
    "        saver = tf.train.Saver()\n",
    "        saver.save(sess, 'hand_motions.ckpt')\n",
    "        sess.close()\n",
    "        \n",
    "    return train_accuracy, parameters\n"
   ]
  },
  {
   "cell_type": "code",
   "execution_count": 23,
   "metadata": {},
   "outputs": [],
   "source": [
    "def test(X_test, Y_test, parameters):                                     \n",
    "    (m, n_H0, n_W0, n_C0) = X_test.shape             \n",
    "    n_y = Y_test.shape[1]                            \n",
    "    costs = [] \n",
    "    X, Y = create_placeholders(n_H0, n_W0, n_C0, n_y)\n",
    "    Z3 = forward_prop(X, parameters)\n",
    "    cost = compute_cost(Z3, Y)\n",
    "    init = tf.global_variables_initializer()\n",
    "\n",
    "    print(\"=====Validation or Testing=====\")\n",
    "    with tf.Session() as sess:\n",
    "        sess.run(init)\n",
    "        a = sess.run(cost, feed_dict={X: X_test, Y:Y_test})\n",
    "\n",
    "        plt.plot(np.squeeze(a))\n",
    "        #plt.show()\n",
    "\n",
    "        predict_op = tf.argmax(Z3, 1)\n",
    "        correct_prediction = tf.equal(predict_op, tf.argmax(Y, 1))\n",
    "\n",
    "        #test_accuracy = accuracy(predict_op, correct_prediction)\n",
    "        accuracy = tf.reduce_mean(tf.cast(correct_prediction, \"float\"))\n",
    "        #print(accuracy)\n",
    "        test_accuracy = accuracy.eval({X: X_test, Y: Y_test})   \n",
    "        saver = tf.train.Saver()\n",
    "        saver.save(sess, 'hand_motions.ckpt')\n",
    "        sess.close()\n",
    "\n",
    "        return test_accuracy"
   ]
  },
  {
   "cell_type": "code",
   "execution_count": 24,
   "metadata": {},
   "outputs": [
    {
     "name": "stdout",
     "output_type": "stream",
     "text": [
      "=========Training==========\n",
      "Cost after epoch 0: 4.370270\n",
      "Cost after epoch 5: 3.037169\n",
      "Cost after epoch 10: 2.957486\n",
      "Cost after epoch 15: 2.832905\n",
      "Cost after epoch 20: 2.680752\n",
      "Cost after epoch 25: 2.522856\n",
      "Cost after epoch 30: 2.359883\n",
      "Cost after epoch 35: 2.203151\n",
      "Cost after epoch 40: 2.081613\n",
      "Cost after epoch 45: 1.983238\n",
      "Cost after epoch 50: 1.909107\n",
      "Cost after epoch 55: 1.849130\n",
      "Cost after epoch 60: 1.806874\n",
      "Cost after epoch 65: 1.774022\n",
      "Cost after epoch 70: 1.756822\n",
      "Cost after epoch 75: 1.740554\n",
      "Cost after epoch 80: 1.727880\n",
      "Cost after epoch 85: 1.718188\n",
      "Cost after epoch 90: 1.733827\n",
      "Cost after epoch 95: 1.720645\n"
     ]
    },
    {
     "data": {
      "image/png": "[encoded data removed]",
      "text/plain": [
       "<Figure size 432x288 with 1 Axes>"
      ]
     },
     "metadata": {
      "needs_background": "light"
     },
     "output_type": "display_data"
    },
    {
     "name": "stdout",
     "output_type": "stream",
     "text": [
      "training accuracy:  1.0\n",
      "=====Validation or Testing=====\n",
      "validation accuracy:  0.0\n",
      "=====Validation or Testing=====\n",
      "test accuracy:  0.0\n",
      "done\n"
     ]
    },
    {
     "data": {
      "image/png": "[encoded data removed]",
      "text/plain": [
       "<Figure size 432x288 with 1 Axes>"
      ]
     },
     "metadata": {
      "needs_background": "light"
     },
     "output_type": "display_data"
    }
   ],
   "source": [
    "train, parameters = model(X_train, Y_train)\n",
    "print(\"training accuracy: \", train)\n",
    "dev = test(X_dev, Y_dev, parameters)\n",
    "print(\"validation accuracy: \", str(dev))\n",
    "test_accuracy = test(X_test, Y_test, parameters)\n",
    "print(\"test accuracy: \", str(test_accuracy))\n",
    "print('done')"
   ]
  },
  {
   "cell_type": "code",
   "execution_count": null,
   "metadata": {},
   "outputs": [],
   "source": []
  }
 ],
 "metadata": {
  "kernelspec": {
   "display_name": "Python 3",
   "language": "python",
   "name": "python3"
  },
  "language_info": {
   "codemirror_mode": {
    "name": "ipython",
    "version": 3
   },
   "file_extension": ".py",
   "mimetype": "text/x-python",
   "name": "python",
   "nbconvert_exporter": "python",
   "pygments_lexer": "ipython3",
   "version": "3.7.3"
  }
 },
 "nbformat": 4,
 "nbformat_minor": 2
}
