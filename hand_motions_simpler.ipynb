{
 "cells": [
  {
   "cell_type": "code",
   "execution_count": 6,
   "metadata": {},
   "outputs": [],
   "source": [
    "import math\n",
    "import numpy as np\n",
    "import h5py\n",
    "import matplotlib.pyplot as plt\n",
    "import scipy\n",
    "from PIL import Image\n",
    "from scipy import ndimage\n",
    "import tensorflow as tf\n",
    "from tensorflow.python.framework import ops\n",
    "from cnn_utils import *\n",
    "from PIL import Image\n",
    "import glob\n",
    "import random\n",
    "from tensorflow.keras import layers"
   ]
  },
  {
   "cell_type": "code",
   "execution_count": 7,
   "metadata": {},
   "outputs": [
    {
     "name": "stdout",
     "output_type": "stream",
     "text": [
      "(83, 224, 224, 3)\n"
     ]
    }
   ],
   "source": [
    "#directions = ['up', 'down', 'left', 'right']\n",
    "my_list = []\n",
    "path = \"dataset2/*.JPG\"\n",
    "temp = glob.glob(path)\n",
    "for image in temp:\n",
    "    with open(image, 'rb') as file:\n",
    "        img = Image.open(file)\n",
    "        img = img.resize((224, 224))\n",
    "        np_img = np.array(img)\n",
    "        my_list.append(np_img)\n",
    "my_list = np.array(my_list)\n",
    "print(my_list.shape)"
   ]
  },
  {
   "cell_type": "code",
   "execution_count": 8,
   "metadata": {},
   "outputs": [
    {
     "name": "stdout",
     "output_type": "stream",
     "text": [
      "83\n"
     ]
    }
   ],
   "source": [
    "# 0 up, 1 down, 2 left, 3 right, 4 zoom in, 5 zoom out, 6 two, 7 three, 8 four, 9 five\n",
    "labels = [0,0,0,0,0,0,0,0,0,0,0,0,0,0,0,0,0,0,0,0,0,0,0,0, #24\n",
    "          1,1,1,1,1,1,1,1,1,1,1,1,1,1,1,1,1,1,1, #19\n",
    "          9,9,9,9,9,9,9,9,9,9,9,9,9,9,9,9,9,9,9,9, #20\n",
    "          8,8,8,8,8,8,8,8,8,8,8,8,8,8,8,8,8,8,8,8 #20\n",
    "         ]\n",
    "print(len(labels))\n",
    "labels = np.array(labels) "
   ]
  },
  {
   "cell_type": "code",
   "execution_count": 9,
   "metadata": {},
   "outputs": [],
   "source": [
    "p = np.random.permutation(len(my_list))\n",
    "X_orig = my_list[p]\n",
    "Y_orig = labels[p]"
   ]
  },
  {
   "cell_type": "code",
   "execution_count": 10,
   "metadata": {},
   "outputs": [],
   "source": [
    "X_test_orig = X_orig[0:10]\n",
    "Y_test_orig = Y_orig[0:10]\n",
    "X_train_orig = X_orig[11:len(labels)]\n",
    "Y_train_orig = Y_orig[11:len(labels)]"
   ]
  },
  {
   "cell_type": "code",
   "execution_count": 11,
   "metadata": {},
   "outputs": [],
   "source": [
    "X_train = X_train_orig/255\n",
    "X_test = X_test_orig/255\n",
    "Y_train = convert_to_one_hot(Y_train_orig, 10).T\n",
    "Y_test = convert_to_one_hot(Y_test_orig, 10).T"
   ]
  },
  {
   "cell_type": "code",
   "execution_count": 12,
   "metadata": {},
   "outputs": [],
   "source": [
    "def create_placeholders(n_H0, n_W0, n_C0, n_y):\n",
    "    X = tf.placeholder(tf.float32, [None, n_H0, n_W0, n_C0])\n",
    "    Y = tf.placeholder(tf.float32, [None, n_y])\n",
    "    return X, Y\n",
    "\n",
    "def initialize_parameters():\n",
    "    tf.set_random_seed(1)\n",
    "    W1 = tf.get_variable(\"W1\", [4, 4, 3, 8], initializer = tf.contrib.layers.xavier_initializer(seed=0))\n",
    "    W2 = tf.get_variable(\"W2\", [2, 2, 8, 16], initializer = tf.contrib.layers.xavier_initializer(seed=0))\n",
    "    parameters = {\"W1\": W1,\"W2\": W2}\n",
    "    return parameters\n",
    "\n",
    "def forward_prop(X, parameters, keep_prob = 0.5):\n",
    "    W1 = parameters['W1']\n",
    "    W2 = parameters['W2']\n",
    "    rate=1-keep_prob\n",
    "    Z1 = tf.nn.conv2d(X,W1, strides = [1,1,1,1], padding = 'SAME')\n",
    "    A1 = tf.nn.relu(Z1)\n",
    "    A1 = tf.nn.dropout(A1,rate=rate)\n",
    "    P1 = tf.nn.max_pool(A1, ksize = [1,8,8,1], strides = [1,8,8,1], padding = 'SAME')\n",
    "    Z2 = tf.nn.conv2d(P1,W2, strides = [1,1,1,1], padding = 'SAME')\n",
    "    A2 = tf.nn.relu(Z2)\n",
    "    A2 = tf.nn.dropout(A2,rate=rate)\n",
    "    P2 = tf.nn.max_pool(A2, ksize = [1,4,4,1], strides = [1,4,4,1], padding = 'SAME')\n",
    "    P2 = tf.layers.Flatten()(P2)\n",
    "    Z3 = tf.keras.layers.Dense(10, activation=None)(P2)\n",
    "    return Z3\n",
    "\n",
    "def compute_cost(Z3, Y, beta=0.01):\n",
    "    cost = tf.reduce_mean(tf.nn.softmax_cross_entropy_with_logits_v2(logits=Z3,labels=Y))\n",
    "    regularizer = tf.nn.l2_loss(Z3)\n",
    "    cost = tf.reduce_mean(cost + beta * regularizer)\n",
    "    #cost = -tf.reduce_sum(Y*tf.log(tf.clip_by_value(Z3,1e-10,1.0)))\n",
    "    #cost = -tf.reduce_sum(Y*tf.log(tf.clip_by_value(Z3,1e-10,1.0)))\n",
    "    #labels_sum = tf.reduce_sum(Y, axis=-1)\n",
    "    #print(labels)\n",
    "    #softmax = tf.nn.softmax(Z3)\n",
    "    #cost = tf.reduce_mean(-tf.reduce_sum(softmax * tf.log(Y), axis=-1))\n",
    "    return cost"
   ]
  },
  {
   "cell_type": "code",
   "execution_count": 13,
   "metadata": {},
   "outputs": [],
   "source": [
    "def model(X_train, Y_train, learning_rate = 0.009, num_epochs = 100, minibatch_size = 64, print_cost = True):\n",
    "    ops.reset_default_graph()                         \n",
    "    tf.set_random_seed(1)\n",
    "    seed = 3                                          \n",
    "    (m, n_H0, n_W0, n_C0) = X_train.shape             \n",
    "    n_y = Y_train.shape[1]                            \n",
    "    costs = [] \n",
    "    X, Y = create_placeholders(n_H0, n_W0, n_C0, n_y)\n",
    "    parameters = initialize_parameters()\n",
    "    Z3 = forward_prop(X, parameters)\n",
    "    cost = compute_cost(Z3, Y)\n",
    "    optimizer = tf.train.AdamOptimizer(learning_rate = learning_rate).minimize(cost)\n",
    "    \n",
    "    init = tf.global_variables_initializer()\n",
    "\n",
    "    with tf.Session() as sess:\n",
    "        sess.run(init)\n",
    "\n",
    "        print(\"Training\")\n",
    "        \n",
    "        for epoch in range(num_epochs):\n",
    "            minibatch_cost = 0\n",
    "            num_minibatches = int(m / minibatch_size)\n",
    "            seed = seed + 1\n",
    "            minibatches = random_mini_batches(X_train, Y_train, minibatch_size, seed)\n",
    "            for minibatch in minibatches:\n",
    "                (minibatch_X, minibatch_Y) = minibatch\n",
    "                _, temp_cost = sess.run([optimizer, cost], feed_dict={X:minibatch_X, Y:minibatch_Y})\n",
    "                minibatch_cost += temp_cost / num_minibatches\n",
    "\n",
    "            if print_cost == True and epoch % 5 == 0:\n",
    "                print (\"Cost after epoch %i: %f\" % (epoch, minibatch_cost))\n",
    "            if print_cost == True and epoch % 1 == 0:\n",
    "                costs.append(minibatch_cost)\n",
    "  \n",
    "        plt.plot(np.squeeze(costs))\n",
    "        plt.ylabel('cost')\n",
    "        plt.xlabel('iterations (per tens)')\n",
    "        plt.title(\"Learning rate =\" + str(learning_rate))\n",
    "        plt.show()\n",
    "\n",
    "        predict_op = tf.argmax(Z3, 1)\n",
    "        correct_prediction = tf.equal(predict_op, tf.argmax(Y, 1))\n",
    "\n",
    "        accuracy = tf.reduce_mean(tf.cast(correct_prediction, \"float\"))\n",
    "        #print(accuracy)\n",
    "        train_accuracy = accuracy.eval({X: X_train, Y: Y_train})\n",
    "\n",
    "        #train_accuracy = accuracy(predict_op.eval(), correct_prediction)\n",
    "        #return train_accuracy, parameters\n",
    "\n",
    "\n",
    "        saver = tf.train.Saver()\n",
    "        saver.save(sess, 'hand_motions.ckpt')\n",
    "        sess.close()\n",
    "        \n",
    "    return train_accuracy, parameters\n"
   ]
  },
  {
   "cell_type": "code",
   "execution_count": 14,
   "metadata": {},
   "outputs": [],
   "source": [
    "def test(X_test, Y_test, parameters):                                     \n",
    "    (m, n_H0, n_W0, n_C0) = X_test.shape             \n",
    "    n_y = Y_test.shape[1]                            \n",
    "    costs = [] \n",
    "    X, Y = create_placeholders(n_H0, n_W0, n_C0, n_y)\n",
    "    Z3 = forward_prop(X, parameters)\n",
    "    cost = compute_cost(Z3, Y)\n",
    "    init = tf.global_variables_initializer()\n",
    "\n",
    "\n",
    "    print(\"Validation or Testing\")\n",
    "    with tf.Session() as sess:\n",
    "        sess.run(init)\n",
    "        a = sess.run(cost, {X: X_test, Y:Y_test})\n",
    "\n",
    "        #plt.plot(np.squeeze(a))\n",
    "       # plt.show()\n",
    "\n",
    "        predict_op = tf.argmax(Z3, 1)\n",
    "        correct_prediction = tf.equal(predict_op, tf.argmax(Y, 1))\n",
    "\n",
    "        #test_accuracy = accuracy(predict_op, correct_prediction)\n",
    "        accuracy = tf.reduce_mean(tf.cast(correct_prediction, \"float\"))\n",
    "        #print(accuracy)\n",
    "        test_accuracy = accuracy.eval({X: X_train, Y: Y_train})   \n",
    "        saver = tf.train.Saver()\n",
    "        saver.save(sess, 'hand_motions.ckpt')\n",
    "        sess.close()"
   ]
  },
  {
   "cell_type": "code",
   "execution_count": null,
   "metadata": {},
   "outputs": [
    {
     "name": "stdout",
     "output_type": "stream",
     "text": [
      "\n",
      "WARNING: The TensorFlow contrib module will not be included in TensorFlow 2.0.\n",
      "For more information, please see:\n",
      "  * https://github.com/tensorflow/community/blob/master/rfcs/20180907-contrib-sunset.md\n",
      "  * https://github.com/tensorflow/addons\n",
      "If you depend on functionality not listed there, please file an issue.\n",
      "\n",
      "WARNING:tensorflow:From /Users/lululucyyyyyyy/anaconda3/lib/python3.7/site-packages/tensorflow/python/framework/op_def_library.py:263: colocate_with (from tensorflow.python.framework.ops) is deprecated and will be removed in a future version.\n",
      "Instructions for updating:\n",
      "Colocations handled automatically by placer.\n",
      "Training\n",
      "Cost after epoch 0: 12.958005\n",
      "Cost after epoch 5: 4.538974\n",
      "Cost after epoch 10: 4.386367\n",
      "Cost after epoch 15: 4.102324\n",
      "Cost after epoch 20: 4.070923\n",
      "Cost after epoch 25: 3.942859\n",
      "Cost after epoch 30: 4.130031\n",
      "Cost after epoch 35: 3.830316\n",
      "Cost after epoch 40: 4.042243\n",
      "Cost after epoch 45: 3.753193\n",
      "Cost after epoch 50: 3.715553\n",
      "Cost after epoch 55: 3.971550\n",
      "Cost after epoch 60: 3.735210\n",
      "Cost after epoch 65: 3.633503\n",
      "Cost after epoch 70: 3.700934\n",
      "Cost after epoch 75: 3.776154\n",
      "Cost after epoch 80: 3.580024\n",
      "Cost after epoch 85: 3.676985\n",
      "Cost after epoch 90: 3.682090\n",
      "Cost after epoch 95: 3.472745\n"
     ]
    }
   ],
   "source": [
    "train, parameters = model(X_train, Y_train)\n",
    "print(\"training accuracy: \", train)\n",
    "dev = test(X_dev, Y_dev, parameters)\n",
    "print(\"validation accuracy: \", str(dev))\n",
    "test = test(X_test, Y_test, parameters)\n",
    "print(\"test accuracy: \", str(test))\n",
    "print('done')"
   ]
  },
  {
   "cell_type": "code",
   "execution_count": null,
   "metadata": {},
   "outputs": [],
   "source": []
  }
 ],
 "metadata": {
  "kernelspec": {
   "display_name": "Python 3",
   "language": "python",
   "name": "python3"
  },
  "language_info": {
   "codemirror_mode": {
    "name": "ipython",
    "version": 3
   },
   "file_extension": ".py",
   "mimetype": "text/x-python",
   "name": "python",
   "nbconvert_exporter": "python",
   "pygments_lexer": "ipython3",
   "version": "3.7.3"
  }
 },
 "nbformat": 4,
 "nbformat_minor": 2
}
