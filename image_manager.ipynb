{
 "cells": [
  {
   "cell_type": "code",
   "execution_count": 17,
   "metadata": {},
   "outputs": [
    {
     "name": "stdout",
     "output_type": "stream",
     "text": [
      "done\n"
     ]
    }
   ],
   "source": [
    "from PIL import Image\n",
    "import glob\n",
    "\n",
    "globpath = \"ones/*.JPG\"\n",
    "for i, image in enumerate(glob.glob(globpath)):\n",
    "    with open(image, 'rb') as file:\n",
    "        img = Image.open(file)\n",
    "        img.rotate(270)\n",
    "        img.save('one' + str(i+140)+'.JPG')\n",
    "print('done')"
   ]
  },
  {
   "cell_type": "code",
   "execution_count": 18,
   "metadata": {},
   "outputs": [
    {
     "name": "stdout",
     "output_type": "stream",
     "text": [
      "done\n"
     ]
    }
   ],
   "source": [
    "from PIL import Image\n",
    "import glob\n",
    "\n",
    "globpath = \"fives/*.JPG\"\n",
    "for i, image in enumerate(glob.glob(globpath)):\n",
    "    with open(image, 'rb') as file:\n",
    "        img = Image.open(file)\n",
    "        img.rotate(270)\n",
    "        img.save('five' + str(i+118)+'.JPG')\n",
    "print('done')"
   ]
  },
  {
   "cell_type": "code",
   "execution_count": 23,
   "metadata": {},
   "outputs": [
    {
     "name": "stdout",
     "output_type": "stream",
     "text": [
      "done\n"
     ]
    }
   ],
   "source": [
    "for i in range(99-83):\n",
    "    image = \"dataset3/one{}.JPG\".format(i+83)\n",
    "    with open(image, 'rb') as file:\n",
    "        img = Image.open(file)\n",
    "        img.rotate(270)\n",
    "        img.save('dataset3/one' + str(i+83)+'.JPG')\n",
    "print('done')"
   ]
  },
  {
   "cell_type": "code",
   "execution_count": null,
   "metadata": {},
   "outputs": [],
   "source": []
  }
 ],
 "metadata": {
  "kernelspec": {
   "display_name": "Python 3",
   "language": "python",
   "name": "python3"
  },
  "language_info": {
   "codemirror_mode": {
    "name": "ipython",
    "version": 3
   },
   "file_extension": ".py",
   "mimetype": "text/x-python",
   "name": "python",
   "nbconvert_exporter": "python",
   "pygments_lexer": "ipython3",
   "version": "3.7.3"
  }
 },
 "nbformat": 4,
 "nbformat_minor": 2
}
